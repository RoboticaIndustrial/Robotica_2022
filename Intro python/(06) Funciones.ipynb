{
 "cells": [
  {
   "cell_type": "markdown",
   "metadata": {},
   "source": [
    "# Funciones\n",
    "\n",
    "Una función es un bloque de código el cual puede ser ejecutado cuando y cuantas veces deseemos.\n",
    "\n",
    "La sintaxis para una definición de función en Python es:\n",
    "\n",
    "**def NOMBRE(** LISTA DE PARAMETROS **):**\n",
    "    \n",
    "    SENTENCIAS"
   ]
  },
  {
   "cell_type": "code",
   "execution_count": null,
   "metadata": {},
   "outputs": [],
   "source": []
  },
  {
   "cell_type": "code",
   "execution_count": 2,
   "metadata": {},
   "outputs": [
    {
     "name": "stdout",
     "output_type": "stream",
     "text": [
      "Hola Mundo\n",
      "Hola Mundo\n",
      "Hola Mundo\n"
     ]
    }
   ],
   "source": [
    "def saludo():\n",
    "    print (\"Hola Mundo\")\n",
    "    \n",
    "saludo()\n",
    "saludo()\n",
    "saludo()"
   ]
  },
  {
   "cell_type": "markdown",
   "metadata": {},
   "source": [
    "# Una función, no es ejecutada hasta que no sea invocada. Para invocar una función, simplemente se la llama por su nombre:"
   ]
  },
  {
   "cell_type": "code",
   "execution_count": 3,
   "metadata": {},
   "outputs": [
    {
     "name": "stdout",
     "output_type": "stream",
     "text": [
      "Hola Mundo\n"
     ]
    }
   ],
   "source": [
    "saludo()"
   ]
  },
  {
   "cell_type": "markdown",
   "metadata": {},
   "source": [
    "### O podemos escribir una nueva función llamada **tres_saludos** que muestre tres saludos:"
   ]
  },
  {
   "cell_type": "code",
   "execution_count": 6,
   "metadata": {},
   "outputs": [],
   "source": [
    "def tres_saludos():\n",
    "    saludo()\n",
    "    saludo()\n",
    "    saludo()"
   ]
  },
  {
   "cell_type": "code",
   "execution_count": 7,
   "metadata": {},
   "outputs": [
    {
     "name": "stdout",
     "output_type": "stream",
     "text": [
      "Hola Mundo\n",
      "Hola Mundo\n",
      "Hola Mundo\n"
     ]
    }
   ],
   "source": [
    "tres_saludos()"
   ]
  },
  {
   "cell_type": "code",
   "execution_count": null,
   "metadata": {},
   "outputs": [],
   "source": [
    "def saludo():\n",
    "    print(\"Hola Mundo\")"
   ]
  },
  {
   "cell_type": "code",
   "execution_count": 34,
   "metadata": {},
   "outputs": [],
   "source": [
    "def tres_saludos():\n",
    "    for i in range(3):\n",
    "        saludo()"
   ]
  },
  {
   "cell_type": "code",
   "execution_count": 35,
   "metadata": {},
   "outputs": [
    {
     "name": "stdout",
     "output_type": "stream",
     "text": [
      "Hola Mundo\n",
      "Hola Mundo\n",
      "Hola Mundo\n"
     ]
    }
   ],
   "source": [
    "tres_saludos()"
   ]
  },
  {
   "cell_type": "code",
   "execution_count": null,
   "metadata": {
    "collapsed": true
   },
   "outputs": [],
   "source": [
    "def media_1 ():\n",
    "    media = (2+4)/2\n",
    "    print (\"La media es:\",media )"
   ]
  },
  {
   "cell_type": "code",
   "execution_count": null,
   "metadata": {},
   "outputs": [],
   "source": [
    "media_1 ()"
   ]
  },
  {
   "cell_type": "markdown",
   "metadata": {},
   "source": [
    "# Las funciones admiten parámetros en su llamada\n",
    "\n",
    "\n",
    "<font color=\"blue\"> Un parámetro es un valor que la función espera recibir cuando sea llamada (invocada) </font>\n",
    "a fin de ejecutar acciones en base al mismo. Una función puede esperar uno o más parámetros (que irán separados por una coma) o ninguno."
   ]
  },
  {
   "cell_type": "code",
   "execution_count": 11,
   "metadata": {},
   "outputs": [
    {
     "name": "stdout",
     "output_type": "stream",
     "text": [
      "HolaMundo\n",
      "9\n",
      "[1, 34, 5, 4, 56]\n"
     ]
    }
   ],
   "source": [
    "def suma(a,b):\n",
    "    print(a+b)\n",
    "suma(\"Hola\",\"Mundo\"),suma(3,6),suma([1,34,5],[4,56]);"
   ]
  },
  {
   "cell_type": "code",
   "execution_count": 11,
   "metadata": {},
   "outputs": [],
   "source": [
    "def media_2 (a,b):\n",
    "    media = (a+b)/2\n",
    "    print (\"La media es:\",media )\n",
    "    "
   ]
  },
  {
   "cell_type": "code",
   "execution_count": 12,
   "metadata": {},
   "outputs": [
    {
     "name": "stdout",
     "output_type": "stream",
     "text": [
      "La media es: 4.0\n",
      "La media es: 175.0\n",
      "La media es: 267439.5\n"
     ]
    }
   ],
   "source": [
    "media_2(3,5)\n",
    "media_2(345,5)\n",
    "media_2(345,534534)"
   ]
  },
  {
   "cell_type": "markdown",
   "metadata": {},
   "source": [
    "### <font color = AB1010>Nota:</font> El número de valores que se pasan como parámetro al llamar a la función tiene que coincidir con el número de parámetros que la función acepta según la declaración de la función. "
   ]
  },
  {
   "cell_type": "markdown",
   "metadata": {},
   "source": [
    "# Parámetros por omisión"
   ]
  },
  {
   "cell_type": "code",
   "execution_count": 43,
   "metadata": {},
   "outputs": [
    {
     "name": "stdout",
     "output_type": "stream",
     "text": [
      "La media es: 4.0\n",
      "La media es: 7.0\n"
     ]
    }
   ],
   "source": [
    "def media_2 (a,b=5):\n",
    "    media = (a+b)/2\n",
    "    print (\"La media es:\",media )\n",
    "\n",
    "media_2(3)\n",
    "media_2(4,10)\n"
   ]
  },
  {
   "cell_type": "markdown",
   "metadata": {},
   "source": [
    "\n",
    "## Sin embargo también es posible modificar el orden de los parámetros \n",
    "\n",
    "Si indicamos el nombre del parámetro al que asociar el valor a la hora de llamar a la función:"
   ]
  },
  {
   "cell_type": "code",
   "execution_count": 20,
   "metadata": {},
   "outputs": [
    {
     "name": "stdout",
     "output_type": "stream",
     "text": [
      "Buen día Mundo\n"
     ]
    }
   ],
   "source": []
  },
  {
   "cell_type": "code",
   "execution_count": 12,
   "metadata": {},
   "outputs": [
    {
     "name": "stdout",
     "output_type": "stream",
     "text": [
      "Hola Mundo\n",
      "Hola Mundo\n",
      "Que tal!! Mundo\n",
      "Hola Mundo\n",
      "Buen día Mundo\n",
      "Buen día Mundo\n",
      "Buen día Mundo\n"
     ]
    }
   ],
   "source": [
    "def saludar(nombre=\"Mundo\", mensaje='Hola'): \n",
    "    print (mensaje, nombre)\n",
    "\n",
    "saludar()\n",
    "saludar(\"Mundo\")\n",
    "saludar(mensaje=\"Que tal!!\")\n",
    "saludar(nombre=\"Mundo\")\n",
    "saludar(mensaje=\"Buen día\", nombre=\"Mundo\")\n",
    "\n",
    "saludar(nombre=\"Mundo\",mensaje=\"Buen día\",)\n",
    "saludar(\"Mundo\",mensaje=\"Buen día\",)\n",
    "\n",
    "#saludar(mensaje=\"Buen día\", \"Mundo\") #error\n",
    "#saludar(\"Buen día\", nombre=\"Mundo\") #error\n"
   ]
  },
  {
   "cell_type": "code",
   "execution_count": 16,
   "metadata": {},
   "outputs": [
    {
     "name": "stdout",
     "output_type": "stream",
     "text": [
      "Hola Mundo\n",
      "Hola M\n",
      "Egjhghjg g M\n"
     ]
    }
   ],
   "source": [
    "saludar()\n",
    "saludar(\"M\")\n",
    "saludar(\"M\",\"Egjhghjg g\")"
   ]
  },
  {
   "cell_type": "markdown",
   "metadata": {},
   "source": [
    "# Además las funciones pueden regresar valores\n",
    "\n",
    "Cuando una función, haga un retorno de datos, éstos, pueden ser asignados a una variable."
   ]
  },
  {
   "cell_type": "code",
   "execution_count": 17,
   "metadata": {},
   "outputs": [],
   "source": [
    "def media_3 (a,b):\n",
    "    media = (a+b)/2\n",
    "    return media"
   ]
  },
  {
   "cell_type": "code",
   "execution_count": 20,
   "metadata": {},
   "outputs": [
    {
     "name": "stdout",
     "output_type": "stream",
     "text": [
      "La media es  4.0\n"
     ]
    }
   ],
   "source": [
    "media1234 = media_3(3,5)\n",
    "print (\"La media es \",media1234)"
   ]
  },
  {
   "cell_type": "code",
   "execution_count": 19,
   "metadata": {},
   "outputs": [
    {
     "name": "stdout",
     "output_type": "stream",
     "text": [
      "La media es  4.0\n"
     ]
    }
   ],
   "source": [
    "print (\"La media es \",media_3(3,5))"
   ]
  },
  {
   "cell_type": "code",
   "execution_count": 2,
   "metadata": {},
   "outputs": [
    {
     "name": "stdout",
     "output_type": "stream",
     "text": [
      "La media es  ab\n"
     ]
    }
   ],
   "source": [
    "def media_3 (a,b):\n",
    "    media = (a+b)\n",
    "    return media\n",
    "#media = media_3(3,5)\n",
    "media = media_3(\"a\",\"b\")\n",
    "print (\"La media es \",media)"
   ]
  },
  {
   "cell_type": "markdown",
   "metadata": {},
   "source": [
    "### <font color = AB1010>Nota:</font> Esta función puede ser utilizada con más flexibilidad que la del ejemplo anterior, puesto que el programador puede elegir qué hacer con el valor calculado por la función. "
   ]
  },
  {
   "cell_type": "code",
   "execution_count": 25,
   "metadata": {},
   "outputs": [],
   "source": [
    "def media_3 (a,b):\n",
    "    media = (a+b)/2\n",
    "    return media"
   ]
  },
  {
   "cell_type": "code",
   "execution_count": 27,
   "metadata": {},
   "outputs": [
    {
     "data": {
      "text/plain": [
       "4.0"
      ]
     },
     "execution_count": 27,
     "metadata": {},
     "output_type": "execute_result"
    }
   ],
   "source": [
    "media_3(3,5)"
   ]
  },
  {
   "cell_type": "code",
   "execution_count": 26,
   "metadata": {},
   "outputs": [
    {
     "name": "stdout",
     "output_type": "stream",
     "text": [
      "5 es mayor a la media\n"
     ]
    }
   ],
   "source": [
    "if 5 > media_3(3,5):\n",
    "    print (\"5 es mayor a la media\")"
   ]
  },
  {
   "cell_type": "code",
   "execution_count": 48,
   "metadata": {},
   "outputs": [
    {
     "name": "stdout",
     "output_type": "stream",
     "text": [
      "[1, 3, 45]\n"
     ]
    }
   ],
   "source": [
    "li = [1,3,45]\n",
    "\n",
    "def muesuma(a):\n",
    "    print(a)\n",
    "muesuma(li)"
   ]
  },
  {
   "cell_type": "markdown",
   "metadata": {},
   "source": [
    "# Tarea : \n",
    "\n",
    "Crea funciones para realizar cada una de las siguientes operaciones\n",
    "\n",
    "- a+b+c+d\n",
    "- $x^2$\n",
    "- Dada una lista de elementos calcular la media y desviacion estandar\n",
    "\n",
    "Calcular el promedio o media aritmética \n",
    "${\\displaystyle {\\overline {x}}={\\frac {1}{n}}\\sum _{i=1}^{n}x_{i}}$\n",
    "\n",
    "Calcular la desviación estándar $ \\sigma\\,\\!$\n",
    "\n",
    "$$\\sigma = \\sqrt{ \\frac{1}{n-1} \\sum _{i=1}^{n}(x_{i}-\\overline{x})^{2}} $$\n",
    "\n",
    "\n",
    "\n"
   ]
  },
  {
   "cell_type": "code",
   "execution_count": 24,
   "metadata": {},
   "outputs": [
    {
     "name": "stdout",
     "output_type": "stream",
     "text": [
      "3\n"
     ]
    }
   ],
   "source": [
    "def media(a):\n",
    "    print( len(a))\n",
    "    \n",
    "media([1,2,34])"
   ]
  },
  {
   "cell_type": "code",
   "execution_count": 41,
   "metadata": {},
   "outputs": [],
   "source": [
    "from math import *"
   ]
  },
  {
   "cell_type": "code",
   "execution_count": 42,
   "metadata": {},
   "outputs": [
    {
     "data": {
      "text/plain": [
       "3.0"
      ]
     },
     "execution_count": 42,
     "metadata": {},
     "output_type": "execute_result"
    }
   ],
   "source": [
    "sqrt(9)"
   ]
  },
  {
   "cell_type": "code",
   "execution_count": 32,
   "metadata": {},
   "outputs": [
    {
     "name": "stdout",
     "output_type": "stream",
     "text": [
      "90.0\n"
     ]
    }
   ],
   "source": [
    "X= [100,90,80,90]\n",
    "\n",
    "tmp = 0\n",
    "n = len(X)\n",
    "\n",
    "for xi in X:\n",
    "    tmp = tmp + xi\n",
    "\n",
    "print (tmp/n)"
   ]
  },
  {
   "cell_type": "code",
   "execution_count": 35,
   "metadata": {},
   "outputs": [],
   "source": [
    "def Media(X):\n",
    "    tmp = 0\n",
    "    n = len(X)\n",
    "    for xi in X:\n",
    "        tmp = tmp + xi\n",
    "    return tmp/n\n",
    "    "
   ]
  },
  {
   "cell_type": "code",
   "execution_count": 37,
   "metadata": {},
   "outputs": [
    {
     "name": "stdout",
     "output_type": "stream",
     "text": [
      "90.0\n",
      "5.5\n",
      "4.833333333333333\n"
     ]
    }
   ],
   "source": [
    "print ( Media([100,90,80,90]) )\n",
    "print ( Media([5,6]) )\n",
    "print ( Media([5,6,7,2,4,5,]) )"
   ]
  },
  {
   "cell_type": "code",
   "execution_count": 1,
   "metadata": {},
   "outputs": [
    {
     "data": {
      "text/plain": [
       "(7.75, 1.920286436967152)"
      ]
     },
     "execution_count": 1,
     "metadata": {},
     "output_type": "execute_result"
    }
   ],
   "source": [
    "import numpy as np\n",
    "x =np.array([5,7,9,10])\n",
    "x.mean(),x.std()"
   ]
  },
  {
   "cell_type": "code",
   "execution_count": 12,
   "metadata": {},
   "outputs": [
    {
     "data": {
      "text/plain": [
       "(7.75, 1.920286436967152)"
      ]
     },
     "execution_count": 12,
     "metadata": {},
     "output_type": "execute_result"
    }
   ],
   "source": [
    "x=0\n",
    "l =[5,7,9,10]\n",
    "for i in l:\n",
    "     x += i\n",
    "mx =x/len(l)\n",
    "\n",
    "v=0\n",
    "for i in l:\n",
    "     v += (i - mx)**2\n",
    "\n",
    "#Varianza muestral, Corrección de Bessel\n",
    "#v = v / (len(l)-1)\n",
    "#varianza poblacional\n",
    "v = v / (len(l))\n",
    "\n",
    "std = np.sqrt(v)\n",
    "mx,std"
   ]
  },
  {
   "cell_type": "code",
   "execution_count": null,
   "metadata": {},
   "outputs": [],
   "source": []
  },
  {
   "cell_type": "markdown",
   "metadata": {},
   "source": [
    "# El ámbito local nolocal y global\n",
    "\n",
    "Variables de **ámbito local**. Es decir, que los parámetros serán **variables locales**, a las cuáles **solo la función podrá acceder**:\n",
    "\n",
    "Si a la variable se le asigna **valor en algún nivel intermedio la variable se considera no local** y si se le **asigna en el programa principal** la variable se considera **global.**"
   ]
  },
  {
   "cell_type": "markdown",
   "metadata": {},
   "source": [
    "# Ámbito global"
   ]
  },
  {
   "cell_type": "code",
   "execution_count": 1,
   "metadata": {},
   "outputs": [
    {
     "name": "stdout",
     "output_type": "stream",
     "text": [
      "El ámbito de la variable es global, valor  10\n",
      "También aquí conozco el valor. 10\n",
      "Y aquí también conozco 10\n"
     ]
    }
   ],
   "source": [
    "def funcion1 ():\n",
    "    print (\"El ámbito de la variable es global, valor \",variable_Global)\n",
    "    \n",
    "def funcion2():  \n",
    "    print (\"También aquí conozco el valor.\",variable_Global)\n",
    "\n",
    "variable_Global = 10\n",
    "funcion1()\n",
    "funcion2()\n",
    "print (\"Y aquí también conozco\",variable_Global)"
   ]
  },
  {
   "cell_type": "code",
   "execution_count": 2,
   "metadata": {},
   "outputs": [],
   "source": [
    "variable_Global = 10"
   ]
  },
  {
   "cell_type": "markdown",
   "metadata": {},
   "source": [
    "\n",
    "### Si queremos asignar valor a una variable en una funcion, pero no queremos que Python la considere local, debemos declararla en la función como **global** "
   ]
  },
  {
   "cell_type": "code",
   "execution_count": 3,
   "metadata": {},
   "outputs": [
    {
     "name": "stdout",
     "output_type": "stream",
     "text": [
      "El ámbito de la variable es global, valor  10\n",
      "El ámbito de la variable es global, valor  1\n",
      "También aquí conozco el valor. 2\n",
      "Y aquí también conozco 3\n"
     ]
    }
   ],
   "source": [
    "def funcion_0 ():\n",
    "    variable_Global = 10\n",
    "    print (\"El ámbito de la variable es global, valor \",variable_Global)\n",
    "\n",
    "def funcion_1 ():\n",
    "    global variable_Global\n",
    "    #variable_Global = 2\n",
    "    print (\"El ámbito de la variable es global, valor \",variable_Global)\n",
    "    variable_Global = 2\n",
    "    \n",
    "def funcion_2():  \n",
    "    global variable_Global\n",
    "    print (\"También aquí conozco el valor.\",variable_Global)\n",
    "    variable_Global = 3\n",
    "\n",
    "variable_Global = 1\n",
    "funcion_0()\n",
    "funcion_1()\n",
    "funcion_2()\n",
    "print (\"Y aquí también conozco\",variable_Global)"
   ]
  },
  {
   "cell_type": "markdown",
   "metadata": {},
   "source": [
    "# Ámbito local"
   ]
  },
  {
   "cell_type": "code",
   "execution_count": 4,
   "metadata": {},
   "outputs": [
    {
     "name": "stdout",
     "output_type": "stream",
     "text": [
      "El ámbito de la variable es local, valor  4 2\n"
     ]
    }
   ],
   "source": [
    "def funcion_3 (variable_Local1):\n",
    "    variable_Local2=2\n",
    "    print (\"El ámbito de la variable es local, valor \",variable_Local1,variable_Local2)\n",
    "\n",
    "def funcion_4 ():\n",
    "    print (\"Y aquí no la conozco\",variable_Local1,variable_Local2)\n",
    "\n",
    "funcion_3(4)\n",
    "#funcion_4 ()\n",
    "#print (\"Y aquí no la conozco\",variable_Local1,variable_Local2)"
   ]
  },
  {
   "cell_type": "markdown",
   "metadata": {},
   "source": [
    "# Ámbito nolocal"
   ]
  },
  {
   "cell_type": "code",
   "execution_count": 16,
   "metadata": {},
   "outputs": [
    {
     "name": "stdout",
     "output_type": "stream",
     "text": [
      "3\n",
      "3\n",
      "4\n"
     ]
    }
   ],
   "source": [
    "def funcion_5():\n",
    "    def funcion_6():\n",
    "        print(a)\n",
    "        return\n",
    "\n",
    "    a = 3\n",
    "    funcion_6()\n",
    "    print(a)\n",
    "    return\n",
    "\n",
    "a = 4\n",
    "funcion_5()\n",
    "print(a)"
   ]
  },
  {
   "cell_type": "markdown",
   "metadata": {},
   "source": [
    "### Si queremos asignar valor a una variable en una funcion, pero no queremos que Python la considere local, debemos declararla en la función como **nonlocal** "
   ]
  },
  {
   "cell_type": "code",
   "execution_count": 17,
   "metadata": {},
   "outputs": [
    {
     "name": "stdout",
     "output_type": "stream",
     "text": [
      "2\n",
      "3\n",
      "1\n"
     ]
    }
   ],
   "source": [
    "def funcion_5():\n",
    "    def funcion_6():\n",
    "        nonlocal a\n",
    "        print(a)\n",
    "        a=3\n",
    "        return\n",
    "\n",
    "    a = 2\n",
    "    funcion_6()\n",
    "    print(a)\n",
    "    return\n",
    "\n",
    "a = 1\n",
    "funcion_5()\n",
    "print(a)"
   ]
  },
  {
   "cell_type": "markdown",
   "metadata": {},
   "source": [
    "# También es posible, definir funciones con un número variable de argumentos\n",
    "\n",
    "Para definir funciones con un número variable de argumentos colocamos un último parámetro para la función cuyo nombre debe precederse de un signo *:\n",
    "\n",
    "Se suele utilizar el nombre **largs para el parámetro formal**, por List Arguments (argumentos con clave)."
   ]
  },
  {
   "cell_type": "code",
   "execution_count": 27,
   "metadata": {},
   "outputs": [
    {
     "name": "stdout",
     "output_type": "stream",
     "text": [
      "1\n",
      "2\n",
      "<class 'tuple'>\n",
      "(3, 4, 'hola', 'Mundo')\n",
      "3\n",
      "4\n",
      "hola\n",
      "Mundo\n"
     ]
    }
   ],
   "source": [
    "def varios(param1, param2, *otros):\n",
    "    #print (type(otros))\n",
    "    print(param1)\n",
    "    print(param2)\n",
    "    print(type(otros))\n",
    "    print(otros)\n",
    "    for val in otros:\n",
    "        print (val)\n",
    "\n",
    "        \n",
    "#varios(1, 2)\n",
    "#varios(1, 2, 3)\n",
    "#varios(1, 2, 3, 4)\n",
    "varios(1, 2, 3, 4,\"hola\",\"Mundo\")"
   ]
  },
  {
   "cell_type": "markdown",
   "metadata": {},
   "source": [
    "### <font color = AB1010>Nota:</font> Si una función espera recibir parámetros fijos y arbitrarios, los arbitrarios siempre deben suceder a los fijos."
   ]
  },
  {
   "cell_type": "markdown",
   "metadata": {},
   "source": [
    "# Argumentos variables clave-valor (keyword arguments)\n",
    "\n",
    "También se puede preceder el nombre del último parámetro con  \\*\\*, ** en cuyo caso en lugar de una tupla se utilizaría un diccionario**. Las claves de este diccionario serían los nombres de los parámetros indicados al llamar a la función y los valores del diccionario, los valores asociados a estos parámetros.\n",
    "\n",
    "Se suele utilizar el nombre **kwargs para el parámetro formal**, por Keyword Arguments (argumentos con clave).\n",
    "\n",
    "- *args is used to send a non-keyworded variable length argument list to the function.\n",
    "- **kwargs allows you to pass keyworded variable length of arguments to a function. "
   ]
  },
  {
   "cell_type": "code",
   "execution_count": 62,
   "metadata": {},
   "outputs": [
    {
     "name": "stdout",
     "output_type": "stream",
     "text": [
      "nombre Michel {'nombre': 'Michel', 'apellido': 'Lopez', 'a': 43, 'val': 456, 'tmp': 68} Michel\n",
      "apellido Lopez {'nombre': 'Michel', 'apellido': 'Lopez', 'a': 43, 'val': 456, 'tmp': 68} Michel\n",
      "a 43 {'nombre': 'Michel', 'apellido': 'Lopez', 'a': 43, 'val': 456, 'tmp': 68} Michel\n",
      "val 456 {'nombre': 'Michel', 'apellido': 'Lopez', 'a': 43, 'val': 456, 'tmp': 68} Michel\n",
      "tmp 68 {'nombre': 'Michel', 'apellido': 'Lopez', 'a': 43, 'val': 456, 'tmp': 68} Michel\n"
     ]
    }
   ],
   "source": [
    "def Nombres(**kwargs):\n",
    "    for key in kwargs:\n",
    "        print (key,kwargs[key],kwargs,kwargs[\"nombre\"])\n",
    "\n",
    "Nombres(nombre=\"Michel\",apellido=\"Lopez\",a=43,val=456,tmp=68)  "
   ]
  },
  {
   "cell_type": "code",
   "execution_count": null,
   "metadata": {},
   "outputs": [],
   "source": [
    "def Area(**kwargs):\n",
    "    Base = kwargs.get(\"base\",2)\n",
    "    Altura = kwargs.get(\"altura\",5)\n",
    "    return Base*Altura\n",
    "    \n",
    "print (Area (base=10))\n",
    "print (Area (altura=20))\n",
    "print (Area ())\n",
    "print (Area (base=10,altura=20))"
   ]
  },
  {
   "cell_type": "code",
   "execution_count": null,
   "metadata": {},
   "outputs": [],
   "source": [
    "def mi_switch(i):\n",
    "    return { 0 :\"a\",\n",
    "             1 :\"b\",\n",
    "             2 :\"c\",\n",
    "             3 :\"d\"}.get(i,\"error\")\n",
    "\n",
    "print (mi_switch(2))\n",
    "print (mi_switch(6))"
   ]
  },
  {
   "cell_type": "markdown",
   "metadata": {},
   "source": [
    "# Todo junto\n"
   ]
  },
  {
   "cell_type": "code",
   "execution_count": 65,
   "metadata": {},
   "outputs": [
    {
     "name": "stdout",
     "output_type": "stream",
     "text": [
      "parametro_fijo Hola\n",
      "parametro_fijo2 1\n",
      "arbitrarios: 2\n",
      "arbitrarios: 3\n",
      "El valor de Nombre es Michel\n",
      "El valor de Apellido es Lopez\n"
     ]
    }
   ],
   "source": [
    "def recorrer_parametros_arbitrarios(parametro_fijo, parametro_fijo2=\"Mundo\",  *arbitrarios, **kwords): \n",
    "    print (\"parametro_fijo\",parametro_fijo)\n",
    "    print (\"parametro_fijo2\",parametro_fijo2)\n",
    "    for argumento in arbitrarios: \n",
    "        print (\"arbitrarios:\",argumento) \n",
    " \n",
    "    # Los argumentos arbitrarios tipo clave, se recorren como los diccionarios \n",
    "    for clave in kwords: \n",
    "        print (\"El valor de\", clave, \"es\", kwords[clave])\n",
    "        \n",
    "        \n",
    "recorrer_parametros_arbitrarios(\"Hola\",1,2,3,Nombre =\"Michel\",Apellido=\"Lopez\")"
   ]
  },
  {
   "cell_type": "code",
   "execution_count": null,
   "metadata": {
    "collapsed": true
   },
   "outputs": [],
   "source": []
  },
  {
   "cell_type": "markdown",
   "metadata": {},
   "source": [
    "# Desempaquetado de parámetros\n",
    "\n",
    "Puede ocurrir además, una situación inversa a la anterior. Es decir, que la función espere una lista fija de parámetros, pero que éstos, en vez de estar disponibles de forma separada, se encuentren contenidos en una lista o tupla. \n",
    "\n",
    "En este caso, el signo asterisco (*) deberá preceder al nombre de la lista o tupla que es pasada como parámetro durante la llamada a la función:"
   ]
  },
  {
   "cell_type": "code",
   "execution_count": 66,
   "metadata": {},
   "outputs": [
    {
     "name": "stdout",
     "output_type": "stream",
     "text": [
      "6\n",
      "6\n",
      "6\n"
     ]
    }
   ],
   "source": [
    "def suma(a,b,c):\n",
    "    \n",
    "    print (a+b+c)\n",
    "\n",
    "a= [1,2,3]    \n",
    "suma(*a)  \n",
    "b= (1,2,3)\n",
    "suma(*b)  \n",
    "d = {\"a\":1,\"b\":2,\"c\":3}\n",
    "suma(**d) "
   ]
  },
  {
   "cell_type": "markdown",
   "metadata": {},
   "source": [
    "# Documentación\n",
    "\n",
    "También podemos encontrarnos con una cadena de texto como primera línea del cuerpo de la función. Estas cadenas se conocen con el nombre de **docstring (cadena de documentación) y sirven, como su nombre indica, a modo de documentación de la función.**"
   ]
  },
  {
   "cell_type": "code",
   "execution_count": 67,
   "metadata": {},
   "outputs": [
    {
     "name": "stdout",
     "output_type": "stream",
     "text": [
      "Hola\n",
      "Mundo\n"
     ]
    }
   ],
   "source": [
    "def mi_funcion(param1, param2):\n",
    "    \"\"\"Esta funcion imprime los dos valores pasados\n",
    "       como parametros\"\"\"\n",
    "    print (param1)\n",
    "    print (param2)\n",
    "mi_funcion(\"Hola\",\"Mundo\")    "
   ]
  },
  {
   "cell_type": "code",
   "execution_count": 68,
   "metadata": {},
   "outputs": [
    {
     "name": "stdout",
     "output_type": "stream",
     "text": [
      "Help on function mi_funcion in module __main__:\n",
      "\n",
      "mi_funcion(param1, param2)\n",
      "    Esta funcion imprime los dos valores pasados\n",
      "    como parametros\n",
      "\n"
     ]
    }
   ],
   "source": [
    "help(mi_funcion)"
   ]
  },
  {
   "cell_type": "markdown",
   "metadata": {},
   "source": [
    "# Función lambda"
   ]
  },
  {
   "cell_type": "code",
   "execution_count": null,
   "metadata": {},
   "outputs": [],
   "source": [
    "def f(x):\n",
    "    return x*5"
   ]
  },
  {
   "cell_type": "code",
   "execution_count": null,
   "metadata": {},
   "outputs": [],
   "source": [
    "f = lambda x: x * 5\n",
    "f(2)"
   ]
  },
  {
   "cell_type": "code",
   "execution_count": 29,
   "metadata": {},
   "outputs": [
    {
     "data": {
      "text/plain": [
       "15"
      ]
     },
     "execution_count": 29,
     "metadata": {},
     "output_type": "execute_result"
    }
   ],
   "source": [
    "g = lambda x,y: x + 5 + y\n",
    "g(3,7)"
   ]
  },
  {
   "cell_type": "code",
   "execution_count": null,
   "metadata": {},
   "outputs": [],
   "source": [
    "f(5)+g(3)"
   ]
  },
  {
   "cell_type": "markdown",
   "metadata": {},
   "source": [
    "# Tarea: Diseña una función que calcule la media de cualquier cantidad de valores.\n",
    "\n"
   ]
  },
  {
   "cell_type": "markdown",
   "metadata": {},
   "source": [
    "#  Diseña una función que reciba dos parámetros, uno es una lista de enteros, el otro será un valor que se le pida al usuario y este se buscara en la lista.  \n",
    "\n",
    "# Tu programa imprimirá si el elemento se encuentra o no en la lista. "
   ]
  },
  {
   "cell_type": "code",
   "execution_count": null,
   "metadata": {},
   "outputs": [],
   "source": []
  },
  {
   "cell_type": "code",
   "execution_count": null,
   "metadata": {},
   "outputs": [],
   "source": []
  },
  {
   "cell_type": "code",
   "execution_count": 7,
   "metadata": {},
   "outputs": [
    {
     "data": {
      "text/plain": [
       "1"
      ]
     },
     "execution_count": 7,
     "metadata": {},
     "output_type": "execute_result"
    }
   ],
   "source": [
    "a[\"a\"]"
   ]
  },
  {
   "cell_type": "code",
   "execution_count": null,
   "metadata": {},
   "outputs": [],
   "source": []
  },
  {
   "cell_type": "code",
   "execution_count": 2,
   "metadata": {},
   "outputs": [
    {
     "data": {
      "text/plain": [
       "2.75"
      ]
     },
     "execution_count": 2,
     "metadata": {},
     "output_type": "execute_result"
    }
   ],
   "source": [
    "def media_4(*valores):\n",
    "    media = 0\n",
    "    for i in valores:\n",
    "        media += i\n",
    "    resultado = media / len(valores)\n",
    "    return resultado\n",
    "    \n",
    "media_4(5,3,2,1)    "
   ]
  },
  {
   "cell_type": "markdown",
   "metadata": {},
   "source": [
    "\n"
   ]
  },
  {
   "cell_type": "code",
   "execution_count": 1,
   "metadata": {},
   "outputs": [
    {
     "name": "stdout",
     "output_type": "stream",
     "text": [
      "5\n"
     ]
    }
   ],
   "source": [
    "x= [1,2,3,4,5,6,7]\n",
    "\n",
    "def buscar(c,x):\n",
    "    i=0\n",
    "    for item in x:\n",
    "        if item == c: \n",
    "            return i\n",
    "        i +=1\n",
    "    return -1\n",
    "        \n",
    "print(buscar(6,x))"
   ]
  },
  {
   "cell_type": "code",
   "execution_count": 2,
   "metadata": {},
   "outputs": [
    {
     "data": {
      "text/plain": [
       "False"
      ]
     },
     "execution_count": 2,
     "metadata": {},
     "output_type": "execute_result"
    }
   ],
   "source": [
    "x= [1,2,3,4,5,6,7]\n",
    "\n",
    "15 in x"
   ]
  },
  {
   "cell_type": "markdown",
   "metadata": {},
   "source": [
    "# Diseña un programa que calcule el número de combinaciones que podemos formar tomando $m$ elementos de un conjunto con $n$ elementos es: \n",
    "\n",
    "$$ C^m_n = \n",
    "\\Bigg(\n",
    "\\begin{array}{c} \n",
    "n \\\\\n",
    "m\n",
    "\\end{array}\n",
    "\\Bigg) = \\frac{n!}{(n-m)!m!} $$\n",
    "\n",
    "\n",
    "- $n$ conjunto con n elementos\n",
    "- $m$ es el numeros de elementos tomados\n",
    "\n",
    "- Si el **orden no importa**, es una **combinación**.\n",
    "- Si el **orden sí importa** es una **permutación**.\n",
    "\n",
    "# Por ejemplo\n",
    "\n",
    "Sean cuatro elementos **{a,b,c,d}**. \n",
    "\n",
    "Los conjuntos, tomados de tres en tres, que se pueden formar con esos cuatro elementos son:\n",
    "\n",
    "\n",
    "{a , b , c} , {a , b , d } , {a , c , d } y {b , c , d }"
   ]
  },
  {
   "cell_type": "code",
   "execution_count": null,
   "metadata": {},
   "outputs": [],
   "source": []
  },
  {
   "cell_type": "code",
   "execution_count": null,
   "metadata": {},
   "outputs": [],
   "source": []
  },
  {
   "cell_type": "code",
   "execution_count": 1,
   "metadata": {},
   "outputs": [],
   "source": [
    "!open ."
   ]
  }
 ],
 "metadata": {
  "hide_input": false,
  "kernelspec": {
   "display_name": "Python 3",
   "language": "python",
   "name": "python3"
  },
  "language_info": {
   "codemirror_mode": {
    "name": "ipython",
    "version": 3
   },
   "file_extension": ".py",
   "mimetype": "text/x-python",
   "name": "python",
   "nbconvert_exporter": "python",
   "pygments_lexer": "ipython3",
   "version": "3.7.4"
  },
  "toc": {
   "base_numbering": 1,
   "nav_menu": {},
   "number_sections": true,
   "sideBar": true,
   "skip_h1_title": false,
   "title_cell": "Table of Contents",
   "title_sidebar": "Contents",
   "toc_cell": false,
   "toc_position": {},
   "toc_section_display": "block",
   "toc_window_display": false
  },
  "varInspector": {
   "cols": {
    "lenName": 16,
    "lenType": 16,
    "lenVar": 40
   },
   "kernels_config": {
    "python": {
     "delete_cmd_postfix": "",
     "delete_cmd_prefix": "del ",
     "library": "var_list.py",
     "varRefreshCmd": "print(var_dic_list())"
    },
    "r": {
     "delete_cmd_postfix": ") ",
     "delete_cmd_prefix": "rm(",
     "library": "var_list.r",
     "varRefreshCmd": "cat(var_dic_list()) "
    }
   },
   "types_to_exclude": [
    "module",
    "function",
    "builtin_function_or_method",
    "instance",
    "_Feature"
   ],
   "window_display": false
  }
 },
 "nbformat": 4,
 "nbformat_minor": 1
}
